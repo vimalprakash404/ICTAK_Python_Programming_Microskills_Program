{
 "cells": [
  {
   "cell_type": "markdown",
   "id": "b0ee7955",
   "metadata": {},
   "source": [
    "# Question 1"
   ]
  },
  {
   "cell_type": "code",
   "execution_count": 1,
   "id": "290cfabe",
   "metadata": {},
   "outputs": [
    {
     "name": "stdout",
     "output_type": "stream",
     "text": [
      "Enter a number between 1 and 10: 1\n",
      "Too low! Try again.\n",
      "Enter a number between 1 and 10: 10\n",
      "Congratulations! You guessed the number correctly!\n"
     ]
    }
   ],
   "source": [
    "import random\n",
    "\n",
    "secretNumber = random.randint(1, 10)\n",
    "\n",
    "while True:\n",
    "    guess = int(input(\"Enter a number between 1 and 10: \"))\n",
    "\n",
    "    if guess == secretNumber:\n",
    "        print(\"Congratulations! You guessed the number correctly!\")\n",
    "        break\n",
    "    elif guess > secretNumber:\n",
    "        print(\"Too high! Try again.\")\n",
    "    else:\n",
    "        print(\"Too low! Try again.\")\n"
   ]
  },
  {
   "cell_type": "markdown",
   "id": "704b1574",
   "metadata": {},
   "source": [
    "# Question 2"
   ]
  },
  {
   "cell_type": "code",
   "execution_count": 5,
   "id": "4b664cab",
   "metadata": {},
   "outputs": [
    {
     "name": "stdout",
     "output_type": "stream",
     "text": [
      "Enter a positive integer: 5\n",
      "The factorial of 5 is 120\n"
     ]
    }
   ],
   "source": [
    "number = int(input(\"Enter a positive integer: \"))\n",
    "\n",
    "if number < 0:\n",
    "    print(\"Factorial is not defined for negative numbers.\")\n",
    "else:\n",
    "    factorial = 1\n",
    "    for i in range(1, number + 1):\n",
    "        factorial *= i\n",
    "\n",
    "    print(\"The factorial of\", number, \"is\", factorial)\n",
    "\n"
   ]
  },
  {
   "cell_type": "markdown",
   "id": "cb1b76ee",
   "metadata": {},
   "source": [
    "# Question 3"
   ]
  },
  {
   "cell_type": "code",
   "execution_count": null,
   "id": "68aa59b9",
   "metadata": {},
   "outputs": [
    {
     "name": "stdout",
     "output_type": "stream",
     "text": [
      "Enter the minimum dimension (L): 4\n",
      "Enter the number of photos (N): 2\n"
     ]
    }
   ],
   "source": [
    "L = int(input(\"Enter the minimum dimension (L): \"))\n",
    "N = int(input(\"Enter the number of photos (N): \"))\n",
    "\n",
    "for _ in range(N):\n",
    "    W, H = map(int, input(\"Enter the dimensions of the photo (W H): \").split())\n",
    "\n",
    "    if W < L or H < L:\n",
    "        print(\"UPLOAD ANOTHER\")\n",
    "    elif W == H:\n",
    "        print(\"ACCEPTED\")\n",
    "    else:\n",
    "        print(\"CROP IT\")\n"
   ]
  }
 ],
 "metadata": {
  "kernelspec": {
   "display_name": "Python 3 (ipykernel)",
   "language": "python",
   "name": "python3"
  },
  "language_info": {
   "codemirror_mode": {
    "name": "ipython",
    "version": 3
   },
   "file_extension": ".py",
   "mimetype": "text/x-python",
   "name": "python",
   "nbconvert_exporter": "python",
   "pygments_lexer": "ipython3",
   "version": "3.8.10"
  }
 },
 "nbformat": 4,
 "nbformat_minor": 5
}
