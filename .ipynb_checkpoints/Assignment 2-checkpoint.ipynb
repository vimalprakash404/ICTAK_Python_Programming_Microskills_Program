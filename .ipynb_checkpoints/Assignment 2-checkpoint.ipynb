{
 "cells": [
  {
   "cell_type": "code",
   "execution_count": 2,
   "id": "9fcd077d",
   "metadata": {},
   "outputs": [
    {
     "name": "stdout",
     "output_type": "stream",
     "text": [
      "Enter the name:Anisha\n",
      "Enter the roll number:21\n",
      "Enter the mark:78\n",
      "Name:Anisha\n",
      "Roll No:21\n",
      "Mark:78\n"
     ]
    }
   ],
   "source": [
    "\"\"\"1. Write a Python Program to accept the details of a student like name, roll number\n",
    "and mark and display it.\n",
    "Sample input: \n",
    "Enter the name: Anisha\n",
    "Enter the roll number: 21\n",
    "Enter the mark: 78\n",
    "Sample output:\n",
    "Name: Anisha\n",
    "Roll No: 21\n",
    "Mark: 78\"\"\"\n",
    "\n",
    "name=input(\"Enter the name:\")\n",
    "roll=int(input(\"Enter the roll number:\"))\n",
    "mark=int(input(\"Enter the mark:\"))\n",
    "print(\"Name:\"+name+\"\\n\"+\"Roll No:\"+str(roll)+\"\\n\"+\"Mark:\"+str(mark))\n"
   ]
  },
  {
   "cell_type": "code",
   "execution_count": 11,
   "id": "b1fd7c77",
   "metadata": {},
   "outputs": [
    {
     "name": "stdout",
     "output_type": "stream",
     "text": [
      "Temperature in Fahrenheit 41\n",
      "Temperature in Celsius =5.0\n"
     ]
    }
   ],
   "source": [
    "\"\"\"2. Write a Python program to convert temperatures to and from Celsius\n",
    "Fahrenheit. [Formula: c/5=f-32/9 where c=temperature in Celsius and f=\n",
    "temperature in Fahrenheit.] Sample input: Temperature in Fahrenheit =41\n",
    "Sample output: Temperature in Celsius =5\"\"\"\n",
    "\n",
    "f=int(input(\"Temperature in Fahrenheit \"))\n",
    "c=((f-32)/9 )*5\n",
    "print(\"Temperature in Celsius =\"+str(c))"
   ]
  },
  {
   "cell_type": "code",
   "execution_count": 13,
   "id": "e66cb28e",
   "metadata": {},
   "outputs": [
    {
     "name": "stdout",
     "output_type": "stream",
     "text": [
      "Number1:5\n",
      "Number2:2\n",
      "Product: 10\n"
     ]
    }
   ],
   "source": [
    "\"\"\"3.Write a Python program to accept two numbers from the user and display\n",
    "its product\"\"\"\n",
    "\n",
    "print(\"Product:\",str(int(input(\"Number1:\"))*int(input(\"Number2:\"))))"
   ]
  },
  {
   "cell_type": "code",
   "execution_count": 16,
   "id": "3eef1b67",
   "metadata": {},
   "outputs": [
    {
     "name": "stdout",
     "output_type": "stream",
     "text": [
      "Learn**Python**by**Developing**a**Website\n"
     ]
    }
   ],
   "source": [
    "\"\"\"4. Write a Python program to accept a string “Learn Python by Developing a\n",
    "Website” and display the string like “Learn**Python** by Developing a\n",
    "**Website**”\"\"\"\n",
    "\n",
    "message=\"Learn Python by Developing a Website\"\n",
    "print(message.replace(\" \",\"**\"))\n"
   ]
  },
  {
   "cell_type": "code",
   "execution_count": 19,
   "id": "5ccdc6da",
   "metadata": {},
   "outputs": [
    {
     "name": "stdout",
     "output_type": "stream",
     "text": [
      "radius4\n",
      "Radius: 50.26548245743669\n"
     ]
    }
   ],
   "source": [
    "\"\"\"5. Write a Python program to accept the radius of a circle and display its area\"\"\"\n",
    "\n",
    "import math\n",
    "r=float(input(\"radius\"))\n",
    "print(\"Radius:\",str((math.pi*(r*r))))"
   ]
  },
  {
   "cell_type": "code",
   "execution_count": 30,
   "id": "0bef0f4e",
   "metadata": {},
   "outputs": [
    {
     "name": "stdout",
     "output_type": "stream",
     "text": [
      "Enter The position of number1\n",
      "Enter the number50\n"
     ]
    },
    {
     "data": {
      "text/plain": [
       "[50, 45, 10, 5]"
      ]
     },
     "execution_count": 30,
     "metadata": {},
     "output_type": "execute_result"
    }
   ],
   "source": [
    "\"\"\"6. Python program to insert a number to any position in a list (Get the number to\n",
    "be inserted and position from the user)\"\"\"\n",
    "list=[45,10,5]\n",
    "list.insert(int(input(\"Enter The position of number\"))-1,int(input(\"Enter the number\")))\n",
    "list"
   ]
  },
  {
   "cell_type": "code",
   "execution_count": 25,
   "id": "d4d4c7f3",
   "metadata": {},
   "outputs": [
    {
     "name": "stdout",
     "output_type": "stream",
     "text": [
      "{'name': 'John', 'age': 5, 'salary': 8000, 'location': 'New York'}\n"
     ]
    }
   ],
   "source": [
    "\"\"\"7. Write a program to rename a key city to a location in the following dictionary.\n",
    "sample_dict = { \"name\": \"John\", \"age\":5, \"salary\": 8000, \"city\": \"New York\"}\"\"\"\n",
    "\n",
    "sample_dict = {\"name\": \"John\", \"age\": 5, \"salary\": 8000, \"city\": \"New York\"}\n",
    "sample_dict[\"location\"] = sample_dict.pop(\"city\")\n",
    "print(sample_dict)"
   ]
  },
  {
   "cell_type": "code",
   "execution_count": 27,
   "id": "fdf12c53",
   "metadata": {},
   "outputs": [
    {
     "name": "stdout",
     "output_type": "stream",
     "text": [
      "{'emp1': {'name': 'John', 'salary': 7500}, 'emp2': {'name': 'Emma', 'salary': 8000}, 'emp3': {'name': 'Brad', 'salary': 8500}}\n"
     ]
    }
   ],
   "source": [
    "\"\"\"8. Write a Python program to change Brad’s salary to 8500 in the following\n",
    "dictionary.\n",
    "sample_dict = {\n",
    "'emp1': {'name': 'John', 'salary': 7500},\n",
    "'emp2': {'name': 'Emma', 'salary': 8000},\n",
    "'emp3': {'name': 'Brad', 'salary': 500}\n",
    "}\"\"\"\n",
    "\n",
    "sample_dict = {\n",
    "'emp1': {'name': 'John', 'salary': 7500},\n",
    "'emp2': {'name': 'Emma', 'salary': 8000},\n",
    "'emp3': {'name': 'Brad', 'salary': 500}\n",
    "}\n",
    "sample_dict['emp3'][\"salary\"]=8500\n",
    "print(sample_dict)"
   ]
  },
  {
   "cell_type": "code",
   "execution_count": 28,
   "id": "3b1e70ff",
   "metadata": {},
   "outputs": [
    {
     "name": "stdout",
     "output_type": "stream",
     "text": [
      "(43, 54)\n"
     ]
    }
   ],
   "source": [
    "\"\"\"9. Write a program to copy elements 43 and 54 from the following tuple into a\n",
    "new tuple. Given:\n",
    "tuple1 = (10, 20, 43, 54, 56, 68)\"\"\"\n",
    "\n",
    "tuple1 = (10, 20, 43, 54, 56, 68)\n",
    "new_tuple = (tuple1[2], tuple1[3])\n",
    "print(new_tuple)"
   ]
  },
  {
   "cell_type": "code",
   "execution_count": 29,
   "id": "440b7da7",
   "metadata": {},
   "outputs": [
    {
     "name": "stdout",
     "output_type": "stream",
     "text": [
      "3\n"
     ]
    }
   ],
   "source": [
    "\"\"\"10. Counts the number of occurrences of item 50 from a tuple\n",
    "tuple1 = (50, 10, 60, 70, 50,83,567,50,81)\"\"\"\n",
    "\n",
    "tuple1 = (50, 10, 60, 70, 50,83,567,50,81)\n",
    "print(tuple1.count(50))"
   ]
  },
  {
   "cell_type": "code",
   "execution_count": null,
   "id": "cccaa4cb",
   "metadata": {},
   "outputs": [],
   "source": []
  }
 ],
 "metadata": {
  "kernelspec": {
   "display_name": "Python 3 (ipykernel)",
   "language": "python",
   "name": "python3"
  },
  "language_info": {
   "codemirror_mode": {
    "name": "ipython",
    "version": 3
   },
   "file_extension": ".py",
   "mimetype": "text/x-python",
   "name": "python",
   "nbconvert_exporter": "python",
   "pygments_lexer": "ipython3",
   "version": "3.8.10"
  }
 },
 "nbformat": 4,
 "nbformat_minor": 5
}
