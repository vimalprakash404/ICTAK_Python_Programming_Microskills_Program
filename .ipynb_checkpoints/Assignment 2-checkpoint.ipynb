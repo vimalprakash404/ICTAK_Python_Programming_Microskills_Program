{
 "cells": [
  {
   "cell_type": "code",
   "execution_count": 2,
   "id": "e2736ccf",
   "metadata": {},
   "outputs": [
    {
     "name": "stdout",
     "output_type": "stream",
     "text": [
      "Enter the name:Anisha\n",
      "Enter the roll number:21\n",
      "Enter the mark:78\n",
      "Name:Anisha\n",
      "Roll No:21\n",
      "Mark:78\n"
     ]
    }
   ],
   "source": [
    "\"\"\"1. Write a Python Program to accept the details of a student like name, roll number\n",
    "and mark and display it.\n",
    "Sample input: \n",
    "Enter the name: Anisha\n",
    "Enter the roll number: 21\n",
    "Enter the mark: 78\n",
    "Sample output:\n",
    "Name: Anisha\n",
    "Roll No: 21\n",
    "Mark: 78\"\"\"\n",
    "\n",
    "name=input(\"Enter the name:\")\n",
    "roll=int(input(\"Enter the roll number:\"))\n",
    "mark=int(input(\"Enter the mark:\"))\n",
    "print(\"Name:\"+name+\"\\n\"+\"Roll No:\"+str(roll)+\"\\n\"+\"Mark:\"+str(mark))\n"
   ]
  },
  {
   "cell_type": "code",
   "execution_count": 11,
   "id": "466a6802",
   "metadata": {},
   "outputs": [
    {
     "name": "stdout",
     "output_type": "stream",
     "text": [
      "Temperature in Fahrenheit 41\n",
      "Temperature in Celsius =5.0\n"
     ]
    }
   ],
   "source": [
    "\"\"\"2. Write a Python program to convert temperatures to and from Celsius\n",
    "Fahrenheit. [Formula: c/5=f-32/9 where c=temperature in Celsius and f=\n",
    "temperature in Fahrenheit.] Sample input: Temperature in Fahrenheit =41\n",
    "Sample output: Temperature in Celsius =5\"\"\"\n",
    "\n",
    "f=int(input(\"Temperature in Fahrenheit \"))\n",
    "c=((f-32)/9 )*5\n",
    "print(\"Temperature in Celsius =\"+str(c))"
   ]
  },
  {
   "cell_type": "code",
   "execution_count": 13,
   "id": "12bc0ebb",
   "metadata": {},
   "outputs": [
    {
     "name": "stdout",
     "output_type": "stream",
     "text": [
      "Number1:5\n",
      "Number2:2\n",
      "Product: 10\n"
     ]
    }
   ],
   "source": [
    "\"\"\"3.\"\"\"\n",
    "print(\"Product:\",str(int(input(\"Number1:\"))*int(input(\"Number2:\"))))"
   ]
  },
  {
   "cell_type": "code",
   "execution_count": 16,
   "id": "d51cf0b2",
   "metadata": {},
   "outputs": [
    {
     "name": "stdout",
     "output_type": "stream",
     "text": [
      "Learn**Python**by**Developing**a**Website\n"
     ]
    }
   ],
   "source": [
    "message=\"Learn Python by Developing a Website\"\n",
    "print(message.replace(\" \",\"**\"))\n"
   ]
  },
  {
   "cell_type": "code",
   "execution_count": 19,
   "id": "d9698326",
   "metadata": {},
   "outputs": [
    {
     "name": "stdout",
     "output_type": "stream",
     "text": [
      "radius4\n",
      "Radius: 50.26548245743669\n"
     ]
    }
   ],
   "source": [
    "import math\n",
    "r=float(input(\"radius\"))\n",
    "print(\"Radius:\",str((math.pi*(r*r))))"
   ]
  },
  {
   "cell_type": "code",
   "execution_count": 24,
   "id": "8de79d95",
   "metadata": {},
   "outputs": [
    {
     "name": "stdout",
     "output_type": "stream",
     "text": [
      "Enter The position of number1\n",
      "Enter the number5\n"
     ]
    },
    {
     "data": {
      "text/plain": [
       "[5, 45, 10, 5]"
      ]
     },
     "execution_count": 24,
     "metadata": {},
     "output_type": "execute_result"
    }
   ],
   "source": [
    "list=[45,10,5]\n",
    "list.insert(int(input(\"Enter The position of number\"))-1,int(input(\"Enter the number\")))\n",
    "list"
   ]
  },
  {
   "cell_type": "code",
   "execution_count": 25,
   "id": "a549e35a",
   "metadata": {},
   "outputs": [
    {
     "name": "stdout",
     "output_type": "stream",
     "text": [
      "{'name': 'John', 'age': 5, 'salary': 8000, 'location': 'New York'}\n"
     ]
    }
   ],
   "source": [
    "sample_dict = {\"name\": \"John\", \"age\": 5, \"salary\": 8000, \"city\": \"New York\"}\n",
    "sample_dict[\"location\"] = sample_dict.pop(\"city\")\n",
    "print(sample_dict)"
   ]
  },
  {
   "cell_type": "code",
   "execution_count": 27,
   "id": "340d17b9",
   "metadata": {},
   "outputs": [
    {
     "name": "stdout",
     "output_type": "stream",
     "text": [
      "{'emp1': {'name': 'John', 'salary': 7500}, 'emp2': {'name': 'Emma', 'salary': 8000}, 'emp3': {'name': 'Brad', 'salary': 8500}}\n"
     ]
    }
   ],
   "source": [
    "sample_dict = {\n",
    "'emp1': {'name': 'John', 'salary': 7500},\n",
    "'emp2': {'name': 'Emma', 'salary': 8000},\n",
    "'emp3': {'name': 'Brad', 'salary': 500}\n",
    "}\n",
    "sample_dict['emp3'][\"salary\"]=8500\n",
    "print(sample_dict)"
   ]
  },
  {
   "cell_type": "code",
   "execution_count": 28,
   "id": "7968202b",
   "metadata": {},
   "outputs": [
    {
     "name": "stdout",
     "output_type": "stream",
     "text": [
      "(43, 54)\n"
     ]
    }
   ],
   "source": [
    "tuple1 = (10, 20, 43, 54, 56, 68)\n",
    "new_tuple = (tuple1[2], tuple1[3])\n",
    "print(new_tuple)"
   ]
  },
  {
   "cell_type": "code",
   "execution_count": 29,
   "id": "0d5d3f3d",
   "metadata": {},
   "outputs": [
    {
     "name": "stdout",
     "output_type": "stream",
     "text": [
      "3\n"
     ]
    }
   ],
   "source": [
    "tuple1 = (50, 10, 60, 70, 50,83,567,50,81)\n",
    "print(tuple1.count(50))"
   ]
  },
  {
   "cell_type": "code",
   "execution_count": null,
   "id": "33cd387a",
   "metadata": {},
   "outputs": [],
   "source": []
  }
 ],
 "metadata": {
  "kernelspec": {
   "display_name": "Python 3 (ipykernel)",
   "language": "python",
   "name": "python3"
  },
  "language_info": {
   "codemirror_mode": {
    "name": "ipython",
    "version": 3
   },
   "file_extension": ".py",
   "mimetype": "text/x-python",
   "name": "python",
   "nbconvert_exporter": "python",
   "pygments_lexer": "ipython3",
   "version": "3.8.10"
  }
 },
 "nbformat": 4,
 "nbformat_minor": 5
}
