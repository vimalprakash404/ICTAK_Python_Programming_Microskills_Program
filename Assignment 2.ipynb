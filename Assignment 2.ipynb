{
 "cells": [
  {
   "cell_type": "code",
   "execution_count": 2,
   "id": "f7c9652d",
   "metadata": {},
   "outputs": [
    {
     "name": "stdout",
     "output_type": "stream",
     "text": [
      "Enter the name:Anisha\n",
      "Enter the roll number:21\n",
      "Enter the mark:78\n",
      "Name:Anisha\n",
      "Roll No:21\n",
      "Mark:78\n"
     ]
    }
   ],
   "source": [
    "\"\"\"1. Write a Python Program to accept the details of a student like name, roll number\n",
    "and mark and display it.\n",
    "Sample input: \n",
    "Enter the name: Anisha\n",
    "Enter the roll number: 21\n",
    "Enter the mark: 78\n",
    "Sample output:\n",
    "Name: Anisha\n",
    "Roll No: 21\n",
    "Mark: 78\"\"\"\n",
    "\n",
    "name=input(\"Enter the name:\")\n",
    "roll=int(input(\"Enter the roll number:\"))\n",
    "mark=int(input(\"Enter the mark:\"))\n",
    "print(\"Name:\"+name+\"\\n\"+\"Roll No:\"+str(roll)+\"\\n\"+\"Mark:\"+str(mark))\n"
   ]
  },
  {
   "cell_type": "code",
   "execution_count": 11,
   "id": "f24acdd6",
   "metadata": {},
   "outputs": [
    {
     "name": "stdout",
     "output_type": "stream",
     "text": [
      "Temperature in Fahrenheit 41\n",
      "Temperature in Celsius =5.0\n"
     ]
    }
   ],
   "source": [
    "f=int(input(\"Temperature in Fahrenheit \"))\n",
    "c=((f-32)/9 )*5\n",
    "print(\"Temperature in Celsius =\"+str(c))"
   ]
  },
  {
   "cell_type": "code",
   "execution_count": 13,
   "id": "ac4df607",
   "metadata": {},
   "outputs": [
    {
     "name": "stdout",
     "output_type": "stream",
     "text": [
      "Number1:5\n",
      "Number2:2\n",
      "Product: 10\n"
     ]
    }
   ],
   "source": [
    "print(\"Product:\",str(int(input(\"Number1:\"))*int(input(\"Number2:\"))))"
   ]
  },
  {
   "cell_type": "code",
   "execution_count": null,
   "id": "b35115da",
   "metadata": {},
   "outputs": [],
   "source": []
  }
 ],
 "metadata": {
  "kernelspec": {
   "display_name": "Python 3 (ipykernel)",
   "language": "python",
   "name": "python3"
  },
  "language_info": {
   "codemirror_mode": {
    "name": "ipython",
    "version": 3
   },
   "file_extension": ".py",
   "mimetype": "text/x-python",
   "name": "python",
   "nbconvert_exporter": "python",
   "pygments_lexer": "ipython3",
   "version": "3.8.10"
  }
 },
 "nbformat": 4,
 "nbformat_minor": 5
}
